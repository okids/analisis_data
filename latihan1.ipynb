%matplotlib inline

import matplotlib
import numpy as np
import matplotlib.pyplot as plt
import pandas as pd

dat=pd.read_csv('http://data.go.id/dataset/c240a631-ddfe-4794-9b17-31eb560686b8/resource/3564309c-8c65-483f-a0d5-f66ab4c92f26/download/processedinflasibulanankabupatenkota19792014.csv')
delta=pd.DataFrame.from_records(dat)
query=delta['nama_kabkota'].str.contains('Bandung')
dat_bandung=delta[query]
fig, ax = plt.subplots()
ax.margins(0.05) # Optional, just adds 5% padding to the autoscaling
groups = dat_bandung.groupby('tahun')

for name, group in groups:
    if int(name)<2005 :
        continue
    ax.plot(group.ihk, group.inflasi, marker='.', linestyle='', ms=18, label=name)
    ax.set_xlabel('Indeks Harga Konsumen',fontsize=18)
    ax.set_ylabel('Inflasi',fontsize=18)
ax.legend(loc='center left', bbox_to_anchor=(1, 0.5))
plt.show()
